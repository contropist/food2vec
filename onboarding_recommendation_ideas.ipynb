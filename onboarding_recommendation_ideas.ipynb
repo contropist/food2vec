{
  "nbformat": 4,
  "nbformat_minor": 0,
  "metadata": {
    "kernelspec": {
      "display_name": "Python 3",
      "language": "python",
      "name": "python3"
    },
    "language_info": {
      "codemirror_mode": {
        "name": "ipython",
        "version": 3
      },
      "file_extension": ".py",
      "mimetype": "text/x-python",
      "name": "python",
      "nbconvert_exporter": "python",
      "pygments_lexer": "ipython3",
      "version": "3.6.12"
    },
    "colab": {
      "name": "onboarding-recommendation-ideas.ipynb",
      "provenance": [],
      "collapsed_sections": [],
      "include_colab_link": true
    }
  },
  "cells": [
    {
      "cell_type": "markdown",
      "metadata": {
        "id": "view-in-github",
        "colab_type": "text"
      },
      "source": [
        "<a href=\"https://colab.research.google.com/github/altosaar/food2vec/blob/master/onboarding_recommendation_ideas.ipynb\" target=\"_parent\"><img src=\"https://colab.research.google.com/assets/colab-badge.svg\" alt=\"Open In Colab\"/></a>"
      ]
    },
    {
      "cell_type": "markdown",
      "metadata": {
        "id": "eJEJpQPlpw6o"
      },
      "source": [
        "3 ideas to start exploring how best to use embeddings learned from a large collection of data (55k users, 15M meals) on a smaller set where mechanistic models of blood glucose are used to inform recommendations. "
      ]
    },
    {
      "cell_type": "code",
      "metadata": {
        "colab": {
          "base_uri": "https://localhost:8080/"
        },
        "id": "aKxpju60qwh6",
        "outputId": "9732d560-ac49-4674-e950-8ad1b2abefcc"
      },
      "source": [
        "# mount google drive to be able to load model parameters\n",
        "from google.colab import drive\n",
        "drive.mount('/content/drive')"
      ],
      "execution_count": null,
      "outputs": [
        {
          "output_type": "stream",
          "text": [
            "Drive already mounted at /content/drive; to attempt to forcibly remount, call drive.mount(\"/content/drive\", force_remount=True).\n"
          ],
          "name": "stdout"
        }
      ]
    },
    {
      "cell_type": "code",
      "metadata": {
        "id": "b2X5q55Epw6t"
      },
      "source": [
        "import numpy as np\n",
        "import torch\n",
        "import pandas as pd\n",
        "np.random.seed(534343)"
      ],
      "execution_count": null,
      "outputs": []
    },
    {
      "cell_type": "code",
      "metadata": {
        "id": "vYF1xSKXpw6u"
      },
      "source": [
        "# load model parameters\n",
        "state_dict = torch.load('/content/drive/MyDrive/rankfromsets/best_state_dict', map_location=torch.device('cpu'))"
      ],
      "execution_count": null,
      "outputs": []
    },
    {
      "cell_type": "code",
      "metadata": {
        "colab": {
          "base_uri": "https://localhost:8080/"
        },
        "id": "FHQrTnJspw6u",
        "outputId": "bc22bceb-2d00-4434-e23b-f6f0f3aa3293"
      },
      "source": [
        "state_dict['model'].keys()"
      ],
      "execution_count": null,
      "outputs": [
        {
          "output_type": "execute_result",
          "data": {
            "text/plain": [
              "odict_keys(['user_embeddings.weight', 'user_bias.weight', 'attribute_emb_sum.weight', 'attribute_bias_sum.weight'])"
            ]
          },
          "metadata": {
            "tags": []
          },
          "execution_count": 7
        }
      ]
    },
    {
      "cell_type": "code",
      "metadata": {
        "colab": {
          "base_uri": "https://localhost:8080/"
        },
        "id": "3McOMbN1pw6v",
        "outputId": "3159ea7e-94a6-4201-e526-3274fb266215"
      },
      "source": [
        "user_emb = state_dict['model']['user_embeddings.weight'].numpy()\n",
        "user_bias = state_dict['model']['user_bias.weight'].numpy()\n",
        "word_emb = state_dict['model']['attribute_emb_sum.weight'].numpy()\n",
        "word_bias = state_dict['model']['attribute_bias_sum.weight'].numpy()\n",
        "num_users, emb_size = user_emb.shape\n",
        "user_emb.shape, user_bias.shape, word_emb.shape, word_bias.shape"
      ],
      "execution_count": null,
      "outputs": [
        {
          "output_type": "execute_result",
          "data": {
            "text/plain": [
              "((54996, 128), (54996, 1), (9963, 128), (9963, 1))"
            ]
          },
          "metadata": {
            "tags": []
          },
          "execution_count": 8
        }
      ]
    },
    {
      "cell_type": "code",
      "metadata": {
        "id": "4MixD-oIpw6w"
      },
      "source": [
        "df = pd.read_csv('/content/drive/MyDrive/rankfromsets/food_name_vocab_min_count_20.csv', header=None, index_col=0)\n",
        "id2word = df[1].to_dict()\n",
        "word2id = {v: k for k, v in id2word.items()}"
      ],
      "execution_count": null,
      "outputs": []
    },
    {
      "cell_type": "markdown",
      "metadata": {
        "id": "PKm8r3nNpw6w"
      },
      "source": [
        "### idea 1 - matching users to user embeddings\n",
        "\n",
        "can match users by having them choose from a list of representative users\n",
        "\n",
        "this would reduce the need to onboard "
      ]
    },
    {
      "cell_type": "code",
      "metadata": {
        "scrolled": false,
        "colab": {
          "base_uri": "https://localhost:8080/"
        },
        "id": "yb69uAhHpw6w",
        "outputId": "22d4401d-1230-4b39-e6b0-793f8b7bcd08"
      },
      "source": [
        "# pick 3 random users as examples\n",
        "example_users = np.random.choice(num_users, 3)\n",
        "num_top = 20\n",
        "for user in example_users:\n",
        "    # compute their top food words\n",
        "    word_logits = user_emb[user] @ word_emb.T + user_bias[user] + word_bias.T\n",
        "    top_words = np.argsort(np.squeeze(word_logits))[::-1]\n",
        "    user_word_string = '\\n'.join([id2word[i] for i in top_words[:num_top]])\n",
        "    print(f'user {user}:')\n",
        "    print(f'top preferred words:\\n{user_word_string}')\n",
        "    print('\\n')"
      ],
      "execution_count": null,
      "outputs": [
        {
          "output_type": "stream",
          "text": [
            "user 42282:\n",
            "top preferred words:\n",
            "myoplex\n",
            "ro\n",
            "casein\n",
            "ripped\n",
            "mens\n",
            "tripleberry\n",
            "starkist\n",
            "creatine\n",
            "c\n",
            "bananna\n",
            "advobar\n",
            "farm\n",
            "complex\n",
            "carte\n",
            "gladiator\n",
            "charlie\n",
            "spegetti\n",
            "knockout\n",
            "grandmas\n",
            "rtd\n",
            "\n",
            "\n",
            "user 7314:\n",
            "top preferred words:\n",
            "nutrisystem\n",
            "struesel\n",
            "francisco\n",
            "based\n",
            "tazo\n",
            "fancy\n",
            "sweetener\n",
            "backyard\n",
            "request\n",
            "praegers\n",
            "river\n",
            "chai\n",
            "pirate\n",
            "tom\n",
            "shake\n",
            "per\n",
            "skim\n",
            "in\n",
            "pretzels\n",
            "cheezit\n",
            "\n",
            "\n",
            "user 28101:\n",
            "top preferred words:\n",
            "creamer\n",
            "chardonnay\n",
            "graze\n",
            "moscato\n",
            "women\n",
            "aunt\n",
            "herby\n",
            "grove\n",
            "merlot\n",
            "meunster\n",
            "reisling\n",
            "break\n",
            "blood\n",
            "scandinavian\n",
            "chive\n",
            "svelte\n",
            "madras\n",
            "sargento\n",
            "net\n",
            "truly\n",
            "\n",
            "\n"
          ],
          "name": "stdout"
        }
      ]
    },
    {
      "cell_type": "markdown",
      "metadata": {
        "id": "drgqwr-gpw6w"
      },
      "source": [
        "### idea 2: matching existing meals with cosine similarity\n",
        "\n",
        "assuming preference data has been elicited (or some type of preference with associated language), meal or recipe recommendation can be done by cosine similarity"
      ]
    },
    {
      "cell_type": "markdown",
      "metadata": {
        "id": "6bKW1YMBpw6x"
      },
      "source": [
        "### idea 3: using rankfromsets to sort by preference \n",
        "\n",
        "assuming the mechanistic model of blood glucose has been used to predict what meals people may want to eat, rankfromsets can be used to rank these meals in order of preference (e.g. using the nearest neighbor user embedding)."
      ]
    },
    {
      "cell_type": "code",
      "metadata": {
        "id": "GIOGlSNkqPBC"
      },
      "source": [
        ""
      ],
      "execution_count": null,
      "outputs": []
    }
  ]
}